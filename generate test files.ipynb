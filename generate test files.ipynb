{
 "cells": [
  {
   "cell_type": "code",
   "execution_count": null,
   "metadata": {
    "collapsed": true
   },
   "outputs": [],
   "source": [
    "input_file = \"nn1.txt\"\n",
    "output_file = \"testnet1.txt\"\n",
    "\n",
    "with open(input_file, \"r\") as file:\n",
    "    lines = file.readlines()\n",
    "\n",
    "cleaned_lines = [line.split()[0] + \"\\n\" for line in lines]\n",
    "\n",
    "with open(output_file, \"w\") as file:\n",
    "    file.writelines(cleaned_lines)\n",
    "\n",
    "print(\"Labels removed and saved in\", output_file)"
   ]
  },
  {
   "cell_type": "code",
   "execution_count": null,
   "outputs": [],
   "source": [
    "# Read the data from the original file\n",
    "with open(\"nn1.txt\", \"r\") as f:\n",
    "    data = f.readlines()\n",
    "\n",
    "# Extract only the second column (last character) of each line\n",
    "labels = [line.strip()[-1] for line in data]\n",
    "\n",
    "# Write the extracted labels to a new file\n",
    "with open(\"true_label1.txt\", \"w\") as f:\n",
    "    for label in labels:\n",
    "        f.write(label + \"\\n\")\n"
   ],
   "metadata": {
    "collapsed": false
   }
  },
  {
   "cell_type": "code",
   "execution_count": 4,
   "outputs": [],
   "source": [
    "# Read the data from the original file\n",
    "with open(\"binary_file.txt\", \"r\") as f:\n",
    "    data = f.readlines()\n",
    "\n",
    "# Extract only the second column (last character) of each line\n",
    "labels = [line.strip()[-1] for line in data]\n",
    "\n",
    "# Write the extracted labels to a new file\n",
    "with open(\"true_label_0IsLeessThen5.txt\", \"w\") as f:\n",
    "    for label in labels:\n",
    "        f.write(label + \"\\n\")\n"
   ],
   "metadata": {
    "collapsed": false,
    "ExecuteTime": {
     "end_time": "2023-06-14T16:57:57.418609800Z",
     "start_time": "2023-06-14T16:57:57.394174600Z"
    }
   }
  },
  {
   "cell_type": "code",
   "execution_count": 3,
   "outputs": [
    {
     "name": "stdout",
     "output_type": "stream",
     "text": [
      "Labels removed and saved in testnet0IsLeessThen5.txt\n"
     ]
    }
   ],
   "source": [
    "input_file = \"binary_file.txt\"\n",
    "output_file = \"testnet0IsLeessThen5.txt\"\n",
    "\n",
    "with open(input_file, \"r\") as file:\n",
    "    lines = file.readlines()\n",
    "\n",
    "cleaned_lines = [line.split()[0] + \"\\n\" for line in lines]\n",
    "\n",
    "with open(output_file, \"w\") as file:\n",
    "    file.writelines(cleaned_lines)\n",
    "\n",
    "print(\"Labels removed and saved in\", output_file)"
   ],
   "metadata": {
    "collapsed": false,
    "ExecuteTime": {
     "end_time": "2023-06-14T16:57:31.846771800Z",
     "start_time": "2023-06-14T16:57:31.794516900Z"
    }
   }
  },
  {
   "cell_type": "code",
   "execution_count": 9,
   "outputs": [],
   "source": [
    "# Read the data from the original file\n",
    "with open(\"binary_file.txt\", \"r\") as f:\n",
    "    data = f.readlines()\n",
    "\n",
    "# Extract only the second column (last character) of each line\n",
    "labels = [line.strip()[-1] for line in data]\n",
    "\n",
    "# Write the extracted labels to a new file\n",
    "with open(\"true_label0_MoreV1.txt\", \"w\") as f:\n",
    "    for label in labels:\n",
    "        f.write(label + \"\\n\")"
   ],
   "metadata": {
    "collapsed": false,
    "ExecuteTime": {
     "end_time": "2023-06-15T06:55:06.280912900Z",
     "start_time": "2023-06-15T06:55:06.250206300Z"
    }
   }
  },
  {
   "cell_type": "code",
   "execution_count": 10,
   "outputs": [
    {
     "name": "stdout",
     "output_type": "stream",
     "text": [
      "Labels removed and saved in testnet0_MoreV1.txt\n"
     ]
    }
   ],
   "source": [
    "input_file = \"binary_file.txt\"\n",
    "output_file = \"testnet0_MoreV1.txt\"\n",
    "\n",
    "with open(input_file, \"r\") as file:\n",
    "    lines = file.readlines()\n",
    "\n",
    "cleaned_lines = [line.split()[0] + \"\\n\" for line in lines]\n",
    "\n",
    "with open(output_file, \"w\") as file:\n",
    "    file.writelines(cleaned_lines)\n",
    "\n",
    "print(\"Labels removed and saved in\", output_file)"
   ],
   "metadata": {
    "collapsed": false,
    "ExecuteTime": {
     "end_time": "2023-06-15T06:55:08.137321100Z",
     "start_time": "2023-06-15T06:55:08.113616900Z"
    }
   }
  }
 ],
 "metadata": {
  "kernelspec": {
   "display_name": "Python 3",
   "language": "python",
   "name": "python3"
  },
  "language_info": {
   "codemirror_mode": {
    "name": "ipython",
    "version": 2
   },
   "file_extension": ".py",
   "mimetype": "text/x-python",
   "name": "python",
   "nbconvert_exporter": "python",
   "pygments_lexer": "ipython2",
   "version": "2.7.6"
  }
 },
 "nbformat": 4,
 "nbformat_minor": 0
}
